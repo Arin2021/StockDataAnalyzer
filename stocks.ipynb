{
 "cells": [
  {
   "cell_type": "code",
   "execution_count": 2,
   "id": "ea63b3c5",
   "metadata": {},
   "outputs": [],
   "source": [
    "stock_symbols = [\n",
    "    'INDI', 'SBIN.NS', 'IFN', 'IRFC.NS', 'COALINDIA.NS',\n",
    "    'NESTLEIND.NS', 'BANKBEES.NS', 'IOC.NS', 'IBULHSGFIN.NS',\n",
    "    'SAIL.NS', 'IRCTC.NS', 'GAIL.NS', 'POLYCAB.NS', 'DABUR.NS',\n",
    "    'IIF', 'IBREALEST.NS', 'BSOFT.NS', 'LICI.NS', 'AFFLE.NS',\n",
    "    'INDIAMART.NS', 'BANKINDIA.NS', 'IEX.NS', 'UNIONBANK.NS',\n",
    "    'ABB.NS', 'IOB.NS', 'HAVELLS.NS', 'FIH-U.TO', 'OIL.NS',\n",
    "    'SIEMENS.NS', 'INDHOTEL.NS', 'GRANULES.NS', 'SOUTHBANK.NS',\n",
    "    'NIFTYBEES.NS', 'ENGINERSIN.NS', 'CUMMINSIND.NS', 'CASTROLIND.NS',\n",
    "    'GEPIL.NS', 'FFXDF', 'KSOLVES.NS', 'NETWEB.NS', 'ABBOTINDIA.NS',\n",
    "    'BATAINDIA.NS', 'INDIANB.NS', 'CY6U.SI', 'WELSPUNIND.NS', 'NBCC.NS',\n",
    "    'GOLDBEES.NS', 'DISHTV.NS', 'ASAHIINDIA.NS', 'IPL.NS', 'EIDPARRY.NS',\n",
    "    'VENKEYS.NS', 'JTEKTINDIA.NS', 'DATAPATTNS.NS', 'JETAIRWAYS.NS', 'INDIW',\n",
    "    'INDIACEM.NS', 'VESUVIUS.NS', 'NLCINDIA.NS', 'FORTIS.NS', 'NIDB',\n",
    "    'INDHOTEL.BO', 'GILLETTE.NS', 'DLINKINDIA.NS', 'WHIRLPOOL.NS', 'IONEXCHANG.NS',\n",
    "    'COALINDIA.BO', 'SANOFI.NS', 'GOODYEAR.NS', 'SAREGAMA.NS', 'SBIN.BO',\n",
    "    'HONDAPOWER.NS', 'IMFA.NS', 'PTC.NS', 'SAPPHIRE.NS', 'SCI.NS',\n",
    "    'DICIND.NS', 'RALLIS.NS', 'NIFTYBEES.BO', 'ANURAS.NS', 'IRFC.BO',\n",
    "    'ANMOL.NS', 'INDIAGLYCO.NS', 'DABUR.BO', 'RHIM.NS', 'ESABINDIA.NS',\n",
    "    'AKZOINDIA.NS', 'CIEINDIA.NS', 'FBPI', 'SIRCA.NS', '2836.HK',\n",
    "    'MAXIND.NS', 'JUNIORBEES.NS', 'GAIL.BO', 'GOODLUCK.NS', 'ENGINERSIN.BO',\n",
    "    'DENORA.NS', 'NIACL.NS', 'INSECTICID.NS', 'IMPAL.NS', 'NOVARTIND.NS',\n",
    "    'FOSECOIND.NS', 'CORALFINAC.NS', 'TINPLATE.NS', 'ISWL.BO', 'ROSSELLIND.NS',\n",
    "    'PFS.BO', 'SIRCA.BO', 'IDA.AX', '3MINDIA.NS', 'LIQUIDBEES.NS',\n",
    "    'GILLETTE.BO', 'BASF.BO', 'AKSHARCHEM.NS', 'POLYCAB.BO', 'CUPID.NS',\n",
    "    'IEX.BO', 'ITI.NS', 'GRAPHITE.NS', 'UNIVASTU.NS', 'GRAVITA.NS',\n",
    "    'ELANTAS.BO', 'MARUTI.BO', 'IVCA', 'LEXUS.NS'\n",
    "]"
   ]
  },
  {
   "cell_type": "code",
   "execution_count": null,
   "id": "ebb7529d",
   "metadata": {},
   "outputs": [],
   "source": []
  }
 ],
 "metadata": {
  "kernelspec": {
   "display_name": "Python 3 (ipykernel)",
   "language": "python",
   "name": "python3"
  },
  "language_info": {
   "codemirror_mode": {
    "name": "ipython",
    "version": 3
   },
   "file_extension": ".py",
   "mimetype": "text/x-python",
   "name": "python",
   "nbconvert_exporter": "python",
   "pygments_lexer": "ipython3",
   "version": "3.11.3"
  }
 },
 "nbformat": 4,
 "nbformat_minor": 5
}
